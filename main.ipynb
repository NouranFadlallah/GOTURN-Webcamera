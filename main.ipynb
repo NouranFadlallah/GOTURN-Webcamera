{
 "cells": [
  {
   "cell_type": "code",
   "execution_count": 2,
   "metadata": {},
   "outputs": [],
   "source": [
    "import cv2\n",
    "import os\n",
    "\n",
    "#Creating Tracker and starting Webcamera\n",
    "tracker = cv2.TrackerGOTURN_create()\n",
    "video_capture = cv2.VideoCapture(0)\n",
    "\n",
    "if not video_capture.isOpened():\n",
    "    print(\"Could not open camera\")\n",
    "    exit()\n",
    "\n",
    "    \n",
    "#Select the object to be tracked\n",
    "ret,frame = video_capture.read()\n",
    "if not ret:\n",
    "    print(\"Can't receive frame (stream end?). Exiting ...\")\n",
    "    exit()\n",
    "    \n",
    "bbox = cv2.selectROI(frame, False)   #User should draw a bounding box around the object to be tracked\n",
    "ok = tracker.init(frame,bbox)\n",
    "\n",
    "\n",
    "#Continously track the selected object\n",
    "while True:\n",
    "\n",
    "    ret, frame = video_capture.read()\n",
    "    if not ret:\n",
    "        print(\"Can't receive frame (stream end?). Exiting ...\")\n",
    "        break\n",
    "\n",
    "    timer = cv2.getTickCount()\n",
    "    ok, bbox = tracker.update(frame)  #Updating tracker\n",
    "    fps = cv2.getTickFrequency() / (cv2.getTickCount() - timer); #Calculating FPS\n",
    "\n",
    "    if ok:\n",
    "        #If object was tracked, draw bounding box\n",
    "        p1 = (int(bbox[0]), int(bbox[1]))\n",
    "        p2 = (int(bbox[0] + bbox[2]), int(bbox[1] + bbox[3]))\n",
    "        cv2.rectangle(frame, p1, p2, (0,0,255), 2, 1)\n",
    "    else :\n",
    "        cv2.putText(frame, \"Tracking failed\", (100,80), cv2.FONT_HERSHEY_SIMPLEX, 0.75,(0,0,255),2)\n",
    "\n",
    "    #Showing results\n",
    "    cv2.putText(frame, \"GOTURN Tracker\", (100,20),cv2.FONT_HERSHEY_SIMPLEX, 0.75, (255,255,255),2);\n",
    "    cv2.putText(frame, \"FPS : \" + str(int(fps)), (100,50),cv2.FONT_HERSHEY_SIMPLEX, 0.75, (255,255,255), 2);\n",
    "    cv2.imshow(\"Tracking\", frame)\n",
    " \n",
    "    #Exit when Q is pressed\n",
    "    if cv2.waitKey(1) & 0xff == ord('q'):\n",
    "        break\n",
    "        \n",
    "#close webcam        \n",
    "video_capture.release()\n",
    "cv2.destroyAllWindows()"
   ]
  }
 ],
 "metadata": {
  "kernelspec": {
   "display_name": "Python 3",
   "language": "python",
   "name": "python3"
  },
  "language_info": {
   "codemirror_mode": {
    "name": "ipython",
    "version": 3
   },
   "file_extension": ".py",
   "mimetype": "text/x-python",
   "name": "python",
   "nbconvert_exporter": "python",
   "pygments_lexer": "ipython3",
   "version": "3.8.2"
  }
 },
 "nbformat": 4,
 "nbformat_minor": 4
}
